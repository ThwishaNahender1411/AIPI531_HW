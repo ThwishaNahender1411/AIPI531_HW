{
  "cells": [
    {
      "cell_type": "code",
      "execution_count": null,
      "metadata": {
        "id": "vs7UdY_u-YPK",
        "colab": {
          "base_uri": "https://localhost:8080/"
        },
        "outputId": "0d92040f-667e-4147-ee7a-827f659f3592"
      },
      "outputs": [
        {
          "output_type": "stream",
          "name": "stdout",
          "text": [
            "Hit:1 https://cloud.r-project.org/bin/linux/ubuntu jammy-cran40/ InRelease\n",
            "Hit:2 https://developer.download.nvidia.com/compute/cuda/repos/ubuntu2204/x86_64  InRelease\n",
            "Get:3 http://security.ubuntu.com/ubuntu jammy-security InRelease [110 kB]\n",
            "Hit:4 http://archive.ubuntu.com/ubuntu jammy InRelease\n",
            "Hit:5 http://archive.ubuntu.com/ubuntu jammy-updates InRelease\n",
            "Hit:6 http://archive.ubuntu.com/ubuntu jammy-backports InRelease\n",
            "Hit:7 https://ppa.launchpadcontent.net/c2d4u.team/c2d4u4.0+/ubuntu jammy InRelease\n",
            "Hit:8 https://ppa.launchpadcontent.net/deadsnakes/ppa/ubuntu jammy InRelease\n",
            "Hit:9 https://ppa.launchpadcontent.net/graphics-drivers/ppa/ubuntu jammy InRelease\n",
            "Hit:10 https://ppa.launchpadcontent.net/ubuntugis/ppa/ubuntu jammy InRelease\n",
            "Fetched 110 kB in 5s (21.7 kB/s)\n",
            "Reading package lists... Done\n",
            "Reading package lists... Done\n",
            "Building dependency tree... Done\n",
            "Reading state information... Done\n",
            "freeglut3-dev is already the newest version (2.8.1-6).\n",
            "ffmpeg is already the newest version (7:4.4.2-0ubuntu0.22.04.1).\n",
            "xvfb is already the newest version (2:21.1.4-2ubuntu1.7~22.04.1).\n",
            "0 upgraded, 0 newly installed, 0 to remove and 18 not upgraded.\n",
            "Requirement already satisfied: stable-baselines3[extra]>=2.0.0a4 in /usr/local/lib/python3.10/dist-packages (2.1.0)\n",
            "Requirement already satisfied: gymnasium<0.30,>=0.28.1 in /usr/local/lib/python3.10/dist-packages (from stable-baselines3[extra]>=2.0.0a4) (0.29.1)\n",
            "Requirement already satisfied: numpy>=1.20 in /usr/local/lib/python3.10/dist-packages (from stable-baselines3[extra]>=2.0.0a4) (1.23.5)\n",
            "Requirement already satisfied: torch>=1.13 in /usr/local/lib/python3.10/dist-packages (from stable-baselines3[extra]>=2.0.0a4) (2.0.1+cu118)\n",
            "Requirement already satisfied: cloudpickle in /usr/local/lib/python3.10/dist-packages (from stable-baselines3[extra]>=2.0.0a4) (2.2.1)\n",
            "Requirement already satisfied: pandas in /usr/local/lib/python3.10/dist-packages (from stable-baselines3[extra]>=2.0.0a4) (1.5.3)\n",
            "Requirement already satisfied: matplotlib in /usr/local/lib/python3.10/dist-packages (from stable-baselines3[extra]>=2.0.0a4) (3.7.1)\n",
            "Requirement already satisfied: opencv-python in /usr/local/lib/python3.10/dist-packages (from stable-baselines3[extra]>=2.0.0a4) (4.8.0.76)\n",
            "Requirement already satisfied: pygame in /usr/local/lib/python3.10/dist-packages (from stable-baselines3[extra]>=2.0.0a4) (2.1.0)\n",
            "Requirement already satisfied: tensorboard>=2.9.1 in /usr/local/lib/python3.10/dist-packages (from stable-baselines3[extra]>=2.0.0a4) (2.13.0)\n",
            "Requirement already satisfied: psutil in /usr/local/lib/python3.10/dist-packages (from stable-baselines3[extra]>=2.0.0a4) (5.9.5)\n",
            "Requirement already satisfied: tqdm in /usr/local/lib/python3.10/dist-packages (from stable-baselines3[extra]>=2.0.0a4) (4.66.1)\n",
            "Requirement already satisfied: rich in /usr/local/lib/python3.10/dist-packages (from stable-baselines3[extra]>=2.0.0a4) (13.5.2)\n",
            "Requirement already satisfied: shimmy[atari]~=1.1.0 in /usr/local/lib/python3.10/dist-packages (from stable-baselines3[extra]>=2.0.0a4) (1.1.0)\n",
            "Requirement already satisfied: pillow in /usr/local/lib/python3.10/dist-packages (from stable-baselines3[extra]>=2.0.0a4) (9.4.0)\n",
            "Requirement already satisfied: autorom[accept-rom-license]~=0.6.1 in /usr/local/lib/python3.10/dist-packages (from stable-baselines3[extra]>=2.0.0a4) (0.6.1)\n",
            "Requirement already satisfied: click in /usr/local/lib/python3.10/dist-packages (from autorom[accept-rom-license]~=0.6.1->stable-baselines3[extra]>=2.0.0a4) (8.1.7)\n",
            "Requirement already satisfied: requests in /usr/local/lib/python3.10/dist-packages (from autorom[accept-rom-license]~=0.6.1->stable-baselines3[extra]>=2.0.0a4) (2.31.0)\n",
            "Requirement already satisfied: AutoROM.accept-rom-license in /usr/local/lib/python3.10/dist-packages (from autorom[accept-rom-license]~=0.6.1->stable-baselines3[extra]>=2.0.0a4) (0.6.1)\n",
            "Requirement already satisfied: typing-extensions>=4.3.0 in /usr/local/lib/python3.10/dist-packages (from gymnasium<0.30,>=0.28.1->stable-baselines3[extra]>=2.0.0a4) (4.5.0)\n",
            "Requirement already satisfied: farama-notifications>=0.0.1 in /usr/local/lib/python3.10/dist-packages (from gymnasium<0.30,>=0.28.1->stable-baselines3[extra]>=2.0.0a4) (0.0.4)\n",
            "Requirement already satisfied: ale-py~=0.8.1 in /usr/local/lib/python3.10/dist-packages (from shimmy[atari]~=1.1.0->stable-baselines3[extra]>=2.0.0a4) (0.8.1)\n",
            "Requirement already satisfied: absl-py>=0.4 in /usr/local/lib/python3.10/dist-packages (from tensorboard>=2.9.1->stable-baselines3[extra]>=2.0.0a4) (1.4.0)\n",
            "Requirement already satisfied: grpcio>=1.48.2 in /usr/local/lib/python3.10/dist-packages (from tensorboard>=2.9.1->stable-baselines3[extra]>=2.0.0a4) (1.57.0)\n",
            "Requirement already satisfied: google-auth<3,>=1.6.3 in /usr/local/lib/python3.10/dist-packages (from tensorboard>=2.9.1->stable-baselines3[extra]>=2.0.0a4) (2.17.3)\n",
            "Requirement already satisfied: google-auth-oauthlib<1.1,>=0.5 in /usr/local/lib/python3.10/dist-packages (from tensorboard>=2.9.1->stable-baselines3[extra]>=2.0.0a4) (1.0.0)\n",
            "Requirement already satisfied: markdown>=2.6.8 in /usr/local/lib/python3.10/dist-packages (from tensorboard>=2.9.1->stable-baselines3[extra]>=2.0.0a4) (3.4.4)\n",
            "Requirement already satisfied: protobuf>=3.19.6 in /usr/local/lib/python3.10/dist-packages (from tensorboard>=2.9.1->stable-baselines3[extra]>=2.0.0a4) (3.20.3)\n",
            "Requirement already satisfied: setuptools>=41.0.0 in /usr/local/lib/python3.10/dist-packages (from tensorboard>=2.9.1->stable-baselines3[extra]>=2.0.0a4) (67.7.2)\n",
            "Requirement already satisfied: tensorboard-data-server<0.8.0,>=0.7.0 in /usr/local/lib/python3.10/dist-packages (from tensorboard>=2.9.1->stable-baselines3[extra]>=2.0.0a4) (0.7.1)\n",
            "Requirement already satisfied: werkzeug>=1.0.1 in /usr/local/lib/python3.10/dist-packages (from tensorboard>=2.9.1->stable-baselines3[extra]>=2.0.0a4) (2.3.7)\n",
            "Requirement already satisfied: wheel>=0.26 in /usr/local/lib/python3.10/dist-packages (from tensorboard>=2.9.1->stable-baselines3[extra]>=2.0.0a4) (0.41.2)\n",
            "Requirement already satisfied: filelock in /usr/local/lib/python3.10/dist-packages (from torch>=1.13->stable-baselines3[extra]>=2.0.0a4) (3.12.2)\n",
            "Requirement already satisfied: sympy in /usr/local/lib/python3.10/dist-packages (from torch>=1.13->stable-baselines3[extra]>=2.0.0a4) (1.12)\n",
            "Requirement already satisfied: networkx in /usr/local/lib/python3.10/dist-packages (from torch>=1.13->stable-baselines3[extra]>=2.0.0a4) (3.1)\n",
            "Requirement already satisfied: jinja2 in /usr/local/lib/python3.10/dist-packages (from torch>=1.13->stable-baselines3[extra]>=2.0.0a4) (3.1.2)\n",
            "Requirement already satisfied: triton==2.0.0 in /usr/local/lib/python3.10/dist-packages (from torch>=1.13->stable-baselines3[extra]>=2.0.0a4) (2.0.0)\n",
            "Requirement already satisfied: cmake in /usr/local/lib/python3.10/dist-packages (from triton==2.0.0->torch>=1.13->stable-baselines3[extra]>=2.0.0a4) (3.27.4.1)\n",
            "Requirement already satisfied: lit in /usr/local/lib/python3.10/dist-packages (from triton==2.0.0->torch>=1.13->stable-baselines3[extra]>=2.0.0a4) (16.0.6)\n",
            "Requirement already satisfied: contourpy>=1.0.1 in /usr/local/lib/python3.10/dist-packages (from matplotlib->stable-baselines3[extra]>=2.0.0a4) (1.1.0)\n",
            "Requirement already satisfied: cycler>=0.10 in /usr/local/lib/python3.10/dist-packages (from matplotlib->stable-baselines3[extra]>=2.0.0a4) (0.11.0)\n",
            "Requirement already satisfied: fonttools>=4.22.0 in /usr/local/lib/python3.10/dist-packages (from matplotlib->stable-baselines3[extra]>=2.0.0a4) (4.42.1)\n",
            "Requirement already satisfied: kiwisolver>=1.0.1 in /usr/local/lib/python3.10/dist-packages (from matplotlib->stable-baselines3[extra]>=2.0.0a4) (1.4.5)\n",
            "Requirement already satisfied: packaging>=20.0 in /usr/local/lib/python3.10/dist-packages (from matplotlib->stable-baselines3[extra]>=2.0.0a4) (23.1)\n",
            "Requirement already satisfied: pyparsing>=2.3.1 in /usr/local/lib/python3.10/dist-packages (from matplotlib->stable-baselines3[extra]>=2.0.0a4) (3.1.1)\n",
            "Requirement already satisfied: python-dateutil>=2.7 in /usr/local/lib/python3.10/dist-packages (from matplotlib->stable-baselines3[extra]>=2.0.0a4) (2.8.2)\n",
            "Requirement already satisfied: pytz>=2020.1 in /usr/local/lib/python3.10/dist-packages (from pandas->stable-baselines3[extra]>=2.0.0a4) (2023.3.post1)\n",
            "Requirement already satisfied: markdown-it-py>=2.2.0 in /usr/local/lib/python3.10/dist-packages (from rich->stable-baselines3[extra]>=2.0.0a4) (3.0.0)\n",
            "Requirement already satisfied: pygments<3.0.0,>=2.13.0 in /usr/local/lib/python3.10/dist-packages (from rich->stable-baselines3[extra]>=2.0.0a4) (2.16.1)\n",
            "Requirement already satisfied: importlib-resources in /usr/local/lib/python3.10/dist-packages (from ale-py~=0.8.1->shimmy[atari]~=1.1.0->stable-baselines3[extra]>=2.0.0a4) (6.0.1)\n",
            "Requirement already satisfied: cachetools<6.0,>=2.0.0 in /usr/local/lib/python3.10/dist-packages (from google-auth<3,>=1.6.3->tensorboard>=2.9.1->stable-baselines3[extra]>=2.0.0a4) (5.3.1)\n",
            "Requirement already satisfied: pyasn1-modules>=0.2.1 in /usr/local/lib/python3.10/dist-packages (from google-auth<3,>=1.6.3->tensorboard>=2.9.1->stable-baselines3[extra]>=2.0.0a4) (0.3.0)\n",
            "Requirement already satisfied: six>=1.9.0 in /usr/local/lib/python3.10/dist-packages (from google-auth<3,>=1.6.3->tensorboard>=2.9.1->stable-baselines3[extra]>=2.0.0a4) (1.16.0)\n",
            "Requirement already satisfied: rsa<5,>=3.1.4 in /usr/local/lib/python3.10/dist-packages (from google-auth<3,>=1.6.3->tensorboard>=2.9.1->stable-baselines3[extra]>=2.0.0a4) (4.9)\n",
            "Requirement already satisfied: requests-oauthlib>=0.7.0 in /usr/local/lib/python3.10/dist-packages (from google-auth-oauthlib<1.1,>=0.5->tensorboard>=2.9.1->stable-baselines3[extra]>=2.0.0a4) (1.3.1)\n",
            "Requirement already satisfied: mdurl~=0.1 in /usr/local/lib/python3.10/dist-packages (from markdown-it-py>=2.2.0->rich->stable-baselines3[extra]>=2.0.0a4) (0.1.2)\n",
            "Requirement already satisfied: charset-normalizer<4,>=2 in /usr/local/lib/python3.10/dist-packages (from requests->autorom[accept-rom-license]~=0.6.1->stable-baselines3[extra]>=2.0.0a4) (3.2.0)\n",
            "Requirement already satisfied: idna<4,>=2.5 in /usr/local/lib/python3.10/dist-packages (from requests->autorom[accept-rom-license]~=0.6.1->stable-baselines3[extra]>=2.0.0a4) (3.4)\n",
            "Requirement already satisfied: urllib3<3,>=1.21.1 in /usr/local/lib/python3.10/dist-packages (from requests->autorom[accept-rom-license]~=0.6.1->stable-baselines3[extra]>=2.0.0a4) (2.0.4)\n",
            "Requirement already satisfied: certifi>=2017.4.17 in /usr/local/lib/python3.10/dist-packages (from requests->autorom[accept-rom-license]~=0.6.1->stable-baselines3[extra]>=2.0.0a4) (2023.7.22)\n",
            "Requirement already satisfied: MarkupSafe>=2.1.1 in /usr/local/lib/python3.10/dist-packages (from werkzeug>=1.0.1->tensorboard>=2.9.1->stable-baselines3[extra]>=2.0.0a4) (2.1.3)\n",
            "Requirement already satisfied: mpmath>=0.19 in /usr/local/lib/python3.10/dist-packages (from sympy->torch>=1.13->stable-baselines3[extra]>=2.0.0a4) (1.3.0)\n",
            "Requirement already satisfied: pyasn1<0.6.0,>=0.4.6 in /usr/local/lib/python3.10/dist-packages (from pyasn1-modules>=0.2.1->google-auth<3,>=1.6.3->tensorboard>=2.9.1->stable-baselines3[extra]>=2.0.0a4) (0.5.0)\n",
            "Requirement already satisfied: oauthlib>=3.0.0 in /usr/local/lib/python3.10/dist-packages (from requests-oauthlib>=0.7.0->google-auth-oauthlib<1.1,>=0.5->tensorboard>=2.9.1->stable-baselines3[extra]>=2.0.0a4) (3.2.2)\n"
          ]
        }
      ],
      "source": [
        "!apt-get update && apt-get install ffmpeg freeglut3-dev xvfb  # For visualization\n",
        "!pip install \"stable-baselines3[extra]>=2.0.0a4\""
      ]
    },
    {
      "cell_type": "code",
      "execution_count": null,
      "metadata": {
        "colab": {
          "base_uri": "https://localhost:8080/"
        },
        "id": "H5HqvvRY-jh8",
        "outputId": "1d083bac-70c3-40d0-e1d7-e803451a14a6"
      },
      "outputs": [
        {
          "output_type": "stream",
          "name": "stdout",
          "text": [
            "stable_baselines3.__version__='2.1.0'\n"
          ]
        }
      ],
      "source": [
        "import stable_baselines3\n",
        "\n",
        "print(f\"{stable_baselines3.__version__=}\")"
      ]
    },
    {
      "cell_type": "code",
      "execution_count": null,
      "metadata": {
        "id": "HygJC8vJ-tYR",
        "colab": {
          "base_uri": "https://localhost:8080/"
        },
        "outputId": "f27b4bb4-674c-4fd2-f005-453d406abd02"
      },
      "outputs": [
        {
          "output_type": "stream",
          "name": "stdout",
          "text": [
            "gym.__version__='0.29.1'\n"
          ]
        }
      ],
      "source": [
        "import gymnasium as gym\n",
        "import numpy as np\n",
        "\n",
        "print(f\"{gym.__version__=}\")"
      ]
    },
    {
      "cell_type": "markdown",
      "metadata": {
        "id": "pvzQAwUq-2VD"
      },
      "source": [
        "Importing the RL Model\n"
      ]
    },
    {
      "cell_type": "code",
      "execution_count": null,
      "metadata": {
        "id": "HLizG4Ko-6x8"
      },
      "outputs": [],
      "source": [
        "from stable_baselines3 import PPO"
      ]
    },
    {
      "cell_type": "code",
      "execution_count": null,
      "metadata": {
        "id": "NiBfqrYq-7jP"
      },
      "outputs": [],
      "source": [
        "from stable_baselines3.ppo import MlpPolicy"
      ]
    },
    {
      "cell_type": "code",
      "execution_count": null,
      "metadata": {
        "id": "-PcFObVe--3Q"
      },
      "outputs": [],
      "source": [
        "env = gym.make(\"CartPole-v1\", render_mode=\"rgb_array\")\n",
        "model = PPO(MlpPolicy, env, verbose=0,tensorboard_log=\"./a2c_donkeykong_tensorboard/\")"
      ]
    },
    {
      "cell_type": "code",
      "execution_count": null,
      "metadata": {
        "id": "rP3HABXt_CeJ"
      },
      "outputs": [],
      "source": [
        "def evaluate(model, num_episodes=100, deterministic=True):\n",
        "    \"\"\"\n",
        "    Evaluate a RL agent\n",
        "    :param model: (BaseRLModel object) the RL Agent\n",
        "    :param num_episodes: (int) number of episodes to evaluate it\n",
        "    :return: (float) Mean reward for the last num_episodes\n",
        "    \"\"\"\n",
        "    # This function will only work for a single Environment\n",
        "    vec_env = model.get_env()\n",
        "    all_episode_rewards = []\n",
        "    for i in range(num_episodes):\n",
        "        episode_rewards = []\n",
        "        done = False\n",
        "        obs = vec_env.reset()\n",
        "        while not done:\n",
        "            # _states are only useful when using LSTM policies\n",
        "            action, _states = model.predict(obs, deterministic=deterministic)\n",
        "            # here, action, rewards and dones are arrays\n",
        "            # because we are using vectorized env\n",
        "            # also note that the step only returns a 4-tuple, as the env that is returned\n",
        "            # by model.get_env() is an sb3 vecenv that wraps the >v0.26 API\n",
        "            obs, reward, done, info = vec_env.step(action)\n",
        "            episode_rewards.append(reward)\n",
        "\n",
        "        all_episode_rewards.append(sum(episode_rewards))\n",
        "\n",
        "    mean_episode_reward = np.mean(all_episode_rewards)\n",
        "    print(\"Mean reward:\", mean_episode_reward, \"Num episodes:\", num_episodes)\n",
        "\n",
        "    return mean_episode_reward"
      ]
    },
    {
      "cell_type": "code",
      "execution_count": null,
      "metadata": {
        "id": "fcIcMX5J_FUL"
      },
      "outputs": [],
      "source": [
        "from stable_baselines3.common.evaluation import evaluate_policy"
      ]
    },
    {
      "cell_type": "code",
      "execution_count": null,
      "metadata": {
        "colab": {
          "base_uri": "https://localhost:8080/"
        },
        "id": "W8XmIJWa_IpP",
        "outputId": "31947fa4-d74f-4721-e826-5449ef39f508"
      },
      "outputs": [
        {
          "output_type": "stream",
          "name": "stderr",
          "text": [
            "/usr/local/lib/python3.10/dist-packages/stable_baselines3/common/evaluation.py:67: UserWarning: Evaluation environment is not wrapped with a ``Monitor`` wrapper. This may result in reporting modified episode lengths and rewards, if other wrappers happen to modify these. Consider wrapping environment first with ``Monitor`` wrapper.\n",
            "  warnings.warn(\n"
          ]
        },
        {
          "output_type": "stream",
          "name": "stdout",
          "text": [
            "mean_reward:93.97 +/- 49.99\n"
          ]
        }
      ],
      "source": [
        "# Use a separate environement for evaluation\n",
        "eval_env = gym.make(\"CartPole-v1\", render_mode=\"rgb_array\")\n",
        "\n",
        "# Random Agent, before training\n",
        "mean_reward, std_reward = evaluate_policy(model, eval_env, n_eval_episodes=100)\n",
        "\n",
        "print(f\"mean_reward:{mean_reward:.2f} +/- {std_reward:.2f}\")"
      ]
    },
    {
      "cell_type": "code",
      "execution_count": null,
      "metadata": {
        "colab": {
          "base_uri": "https://localhost:8080/"
        },
        "id": "vSNoXppU_Kd2",
        "outputId": "b8d7ebb6-93b3-473c-bf18-014c92d4ecc9"
      },
      "outputs": [
        {
          "output_type": "execute_result",
          "data": {
            "text/plain": [
              "<stable_baselines3.ppo.ppo.PPO at 0x7ed0878988b0>"
            ]
          },
          "metadata": {},
          "execution_count": 34
        }
      ],
      "source": [
        "# Train the agent for 10000 steps\n",
        "model.learn(total_timesteps=10_000)"
      ]
    },
    {
      "cell_type": "code",
      "execution_count": null,
      "metadata": {
        "colab": {
          "base_uri": "https://localhost:8080/"
        },
        "id": "tAiRZXbu_NSk",
        "outputId": "13c629d2-a69b-4d6d-b55c-346b94b29613"
      },
      "outputs": [
        {
          "output_type": "stream",
          "name": "stdout",
          "text": [
            "mean_reward:387.32 +/- 117.07\n"
          ]
        }
      ],
      "source": [
        "# Evaluate the trained agent\n",
        "mean_reward, std_reward = evaluate_policy(model, eval_env, n_eval_episodes=100)\n",
        "\n",
        "print(f\"mean_reward:{mean_reward:.2f} +/- {std_reward:.2f}\")"
      ]
    },
    {
      "cell_type": "code",
      "execution_count": null,
      "metadata": {
        "id": "WAID15SI_SQz"
      },
      "outputs": [],
      "source": [
        "import base64\n",
        "from pathlib import Path\n",
        "\n",
        "from IPython import display as ipythondisplay\n",
        "\n",
        "\n",
        "def show_videos(video_path=\"\", prefix=\"\"):\n",
        "    \"\"\"\n",
        "    Taken from https://github.com/eleurent/highway-env\n",
        "\n",
        "    :param video_path: (str) Path to the folder containing videos\n",
        "    :param prefix: (str) Filter the video, showing only the only starting with this prefix\n",
        "    \"\"\"\n",
        "    html = []\n",
        "    for mp4 in Path(video_path).glob(\"{}*.mp4\".format(prefix)):\n",
        "        video_b64 = base64.b64encode(mp4.read_bytes())\n",
        "        html.append(\n",
        "            \"\"\"<video alt=\"{}\" autoplay\n",
        "                    loop controls style=\"height: 400px;\">\n",
        "                    <source src=\"data:video/mp4;base64,{}\" type=\"video/mp4\" />\n",
        "                </video>\"\"\".format(\n",
        "                mp4, video_b64.decode(\"ascii\")\n",
        "            )\n",
        "        )\n",
        "    ipythondisplay.display(ipythondisplay.HTML(data=\"<br>\".join(html)))"
      ]
    },
    {
      "cell_type": "code",
      "execution_count": null,
      "metadata": {
        "id": "Rt_-UnbR_TKA"
      },
      "outputs": [],
      "source": [
        "from stable_baselines3.common.vec_env import VecVideoRecorder, DummyVecEnv\n",
        "\n",
        "\n",
        "def record_video(env_id, model, video_length=500, prefix=\"\", video_folder=\"videos/\"):\n",
        "    \"\"\"\n",
        "    :param env_id: (str)\n",
        "    :param model: (RL model)\n",
        "    :param video_length: (int)\n",
        "    :param prefix: (str)\n",
        "    :param video_folder: (str)\n",
        "    \"\"\"\n",
        "    eval_env = DummyVecEnv([lambda: gym.make(\"CartPole-v1\", render_mode=\"rgb_array\")])\n",
        "    # Start the video at step=0 and record 500 steps\n",
        "    eval_env = VecVideoRecorder(\n",
        "        eval_env,\n",
        "        video_folder=video_folder,\n",
        "        record_video_trigger=lambda step: step == 0,\n",
        "        video_length=video_length,\n",
        "        name_prefix=prefix,\n",
        "    )\n",
        "\n",
        "    obs = eval_env.reset()\n",
        "    for _ in range(video_length):\n",
        "        action, _ = model.predict(obs)\n",
        "        obs, _, _, _ = eval_env.step(action)\n",
        "\n",
        "    # Close the video recorder\n",
        "    eval_env.close()"
      ]
    },
    {
      "cell_type": "code",
      "execution_count": null,
      "metadata": {
        "colab": {
          "base_uri": "https://localhost:8080/"
        },
        "id": "lYALwa_a_YrI",
        "outputId": "3d8363bb-3c8d-4b2a-bd82-a1654befbea4"
      },
      "outputs": [
        {
          "output_type": "stream",
          "name": "stdout",
          "text": [
            "Saving video to /content/videos/ppo-cartpole-step-0-to-step-500.mp4\n",
            "Moviepy - Building video /content/videos/ppo-cartpole-step-0-to-step-500.mp4.\n",
            "Moviepy - Writing video /content/videos/ppo-cartpole-step-0-to-step-500.mp4\n",
            "\n"
          ]
        },
        {
          "output_type": "stream",
          "name": "stderr",
          "text": []
        },
        {
          "output_type": "stream",
          "name": "stdout",
          "text": [
            "Moviepy - Done !\n",
            "Moviepy - video ready /content/videos/ppo-cartpole-step-0-to-step-500.mp4\n"
          ]
        }
      ],
      "source": [
        "record_video(\"CartPole-v1\", model, video_length=500, prefix=\"ppo-cartpole\")"
      ]
    },
    {
      "cell_type": "code",
      "execution_count": null,
      "metadata": {
        "colab": {
          "base_uri": "https://localhost:8080/",
          "height": 421
        },
        "id": "eLZyVDv1_bWl",
        "outputId": "c8a92ce3-f659-4219-a9fc-5f29b47ed85a"
      },
      "outputs": [
        {
          "output_type": "display_data",
          "data": {
            "text/plain": [
              "<IPython.core.display.HTML object>"
            ],
            "text/html": [
              "<video alt=\"videos/ppo-cartpole-step-0-to-step-500.mp4\" autoplay\n",
              "                    loop controls style=\"height: 400px;\">\n",
              "                    <source src=\"data:video/mp4;base64,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\" type=\"video/mp4\" />\n",
              "                </video>"
            ]
          },
          "metadata": {}
        }
      ],
      "source": [
        "show_videos(\"videos\", prefix=\"ppo-cartpole\")"
      ]
    },
    {
      "cell_type": "code",
      "execution_count": null,
      "metadata": {
        "colab": {
          "base_uri": "https://localhost:8080/"
        },
        "id": "rflRPX03O-V_",
        "outputId": "6decbfdf-06b9-46eb-f0b0-a7cf6d7e63d2"
      },
      "outputs": [
        {
          "output_type": "stream",
          "name": "stdout",
          "text": [
            "Requirement already satisfied: tensorboard in /usr/local/lib/python3.10/dist-packages (2.13.0)\n",
            "Requirement already satisfied: absl-py>=0.4 in /usr/local/lib/python3.10/dist-packages (from tensorboard) (1.4.0)\n",
            "Requirement already satisfied: grpcio>=1.48.2 in /usr/local/lib/python3.10/dist-packages (from tensorboard) (1.57.0)\n",
            "Requirement already satisfied: google-auth<3,>=1.6.3 in /usr/local/lib/python3.10/dist-packages (from tensorboard) (2.17.3)\n",
            "Requirement already satisfied: google-auth-oauthlib<1.1,>=0.5 in /usr/local/lib/python3.10/dist-packages (from tensorboard) (1.0.0)\n",
            "Requirement already satisfied: markdown>=2.6.8 in /usr/local/lib/python3.10/dist-packages (from tensorboard) (3.4.4)\n",
            "Requirement already satisfied: numpy>=1.12.0 in /usr/local/lib/python3.10/dist-packages (from tensorboard) (1.23.5)\n",
            "Requirement already satisfied: protobuf>=3.19.6 in /usr/local/lib/python3.10/dist-packages (from tensorboard) (3.20.3)\n",
            "Requirement already satisfied: requests<3,>=2.21.0 in /usr/local/lib/python3.10/dist-packages (from tensorboard) (2.31.0)\n",
            "Requirement already satisfied: setuptools>=41.0.0 in /usr/local/lib/python3.10/dist-packages (from tensorboard) (67.7.2)\n",
            "Requirement already satisfied: tensorboard-data-server<0.8.0,>=0.7.0 in /usr/local/lib/python3.10/dist-packages (from tensorboard) (0.7.1)\n",
            "Requirement already satisfied: werkzeug>=1.0.1 in /usr/local/lib/python3.10/dist-packages (from tensorboard) (2.3.7)\n",
            "Requirement already satisfied: wheel>=0.26 in /usr/local/lib/python3.10/dist-packages (from tensorboard) (0.41.2)\n",
            "Requirement already satisfied: cachetools<6.0,>=2.0.0 in /usr/local/lib/python3.10/dist-packages (from google-auth<3,>=1.6.3->tensorboard) (5.3.1)\n",
            "Requirement already satisfied: pyasn1-modules>=0.2.1 in /usr/local/lib/python3.10/dist-packages (from google-auth<3,>=1.6.3->tensorboard) (0.3.0)\n",
            "Requirement already satisfied: six>=1.9.0 in /usr/local/lib/python3.10/dist-packages (from google-auth<3,>=1.6.3->tensorboard) (1.16.0)\n",
            "Requirement already satisfied: rsa<5,>=3.1.4 in /usr/local/lib/python3.10/dist-packages (from google-auth<3,>=1.6.3->tensorboard) (4.9)\n",
            "Requirement already satisfied: requests-oauthlib>=0.7.0 in /usr/local/lib/python3.10/dist-packages (from google-auth-oauthlib<1.1,>=0.5->tensorboard) (1.3.1)\n",
            "Requirement already satisfied: charset-normalizer<4,>=2 in /usr/local/lib/python3.10/dist-packages (from requests<3,>=2.21.0->tensorboard) (3.2.0)\n",
            "Requirement already satisfied: idna<4,>=2.5 in /usr/local/lib/python3.10/dist-packages (from requests<3,>=2.21.0->tensorboard) (3.4)\n",
            "Requirement already satisfied: urllib3<3,>=1.21.1 in /usr/local/lib/python3.10/dist-packages (from requests<3,>=2.21.0->tensorboard) (2.0.4)\n",
            "Requirement already satisfied: certifi>=2017.4.17 in /usr/local/lib/python3.10/dist-packages (from requests<3,>=2.21.0->tensorboard) (2023.7.22)\n",
            "Requirement already satisfied: MarkupSafe>=2.1.1 in /usr/local/lib/python3.10/dist-packages (from werkzeug>=1.0.1->tensorboard) (2.1.3)\n",
            "Requirement already satisfied: pyasn1<0.6.0,>=0.4.6 in /usr/local/lib/python3.10/dist-packages (from pyasn1-modules>=0.2.1->google-auth<3,>=1.6.3->tensorboard) (0.5.0)\n",
            "Requirement already satisfied: oauthlib>=3.0.0 in /usr/local/lib/python3.10/dist-packages (from requests-oauthlib>=0.7.0->google-auth-oauthlib<1.1,>=0.5->tensorboard) (3.2.2)\n"
          ]
        }
      ],
      "source": [
        "!pip install tensorboard"
      ]
    },
    {
      "cell_type": "code",
      "execution_count": null,
      "metadata": {
        "id": "29xREOZvRsIr",
        "colab": {
          "base_uri": "https://localhost:8080/"
        },
        "outputId": "92d1a65b-a7ad-4e6b-8f0f-6747af280eb8"
      },
      "outputs": [
        {
          "output_type": "stream",
          "name": "stdout",
          "text": [
            "The tensorboard extension is already loaded. To reload it, use:\n",
            "  %reload_ext tensorboard\n"
          ]
        }
      ],
      "source": [
        "%load_ext tensorboard\n"
      ]
    },
    {
      "cell_type": "code",
      "execution_count": null,
      "metadata": {
        "colab": {
          "background_save": true
        },
        "id": "i2gdgkgvT66Y"
      },
      "outputs": [],
      "source": [
        "%tensorboard --logdir='./a2c_donkeykong_tensorboard/'"
      ]
    }
  ],
  "metadata": {
    "colab": {
      "provenance": []
    },
    "kernelspec": {
      "display_name": "Python 3",
      "name": "python3"
    },
    "language_info": {
      "name": "python"
    }
  },
  "nbformat": 4,
  "nbformat_minor": 0
}